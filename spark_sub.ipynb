{
 "cells": [
  {
   "cell_type": "code",
   "execution_count": 26,
   "metadata": {},
   "outputs": [],
   "source": [
    "import time\n",
    "from pyspark.sql import SparkSession\n",
    "from pyspark.sql.functions import from_json, col\n",
    "from pyspark.sql.types import StructType, StructField, StringType, FloatType, TimestampType\n",
    "import pandas as pd\n",
    "import os\n",
    "from pyspark.sql.functions import split\n",
    "import sqlite3"
   ]
  },
  {
   "cell_type": "code",
   "execution_count": 27,
   "metadata": {},
   "outputs": [],
   "source": [
    "\n",
    "\n",
    "schema = StructType([\n",
    "    StructField(\"bookId\", StringType()),\n",
    "    StructField(\"userId\", StringType()),\n",
    "    StructField(\"rating\", FloatType()),\n",
    "    StructField(\"timestamp\", TimestampType()),\n",
    "    StructField(\"title\", StringType())\n",
    "])\n",
    "\n",
    "\n",
    "spark = SparkSession.builder.appName(\"demo2\").config(\n",
    "    \"spark.jars.packages\", \"org.apache.spark:spark-sql-kafka-0-10_2.12:3.5.3\").getOrCreate()\n",
    "# spark.sparkContext.setLogLevel(\"DEBUG\")\n",
    "\n",
    "streaming_df = spark.readStream \\\n",
    "    .format(\"kafka\") \\\n",
    "    .option(\"kafka.bootstrap.servers\", \"localhost:9092\") \\\n",
    "    .option(\"subscribe\", \"books\") \\\n",
    "    .option(\"startingOffsets\", \"earliest\") \\\n",
    "    .load()\n",
    "\n",
    "con = sqlite3.connect('test.db')\n",
    "\n",
    "cur = con.cursor()\n",
    "\n",
    "create_table_query = \"\"\"\n",
    "CREATE TABLE IF NOT EXISTS your_table (\n",
    "    bookId TEXT,\n",
    "    userId TEXT,\n",
    "    rating REAL,\n",
    "    timestamp INTEGER,\n",
    "    title TEXT\n",
    ")\n",
    "\"\"\"\n",
    "\n",
    "\n",
    "cur.execute(create_table_query)\n",
    "con.commit()\n",
    "\n",
    "df = spark.readStream \\\n",
    "    .format(\"kafka\") \\\n",
    "    .option(\"kafka.bootstrap.servers\", \"localhost:9092\") \\\n",
    "    .option(\"subscribe\", \"books\") \\\n",
    "    .option(\"startingOffsets\", \"earliest\") \\\n",
    "    .load() \\\n",
    "    .select(from_json(col(\"value\").cast(\"string\"), schema=schema).alias(\"parsed_value\"))\n",
    "\n",
    "\n",
    "df_ = df.select(\"parsed_value.*\")\n",
    "\n",
    "writing_sink = df_.writeStream \\\n",
    "    .format(\"console\") \\\n",
    "    .option(\"path\", \"./docs/jsonFiles\") \\\n",
    "    .option(\"checkpointLocation\", \"./docs/jsonFiles/checkpoint\") \\\n",
    "    .start()\n",
    "\n",
    "writing_sink.stop()\n",
    "con.commit()\n",
    "cur.close()\n",
    "con.close()"
   ]
  },
  {
   "cell_type": "code",
   "execution_count": null,
   "metadata": {},
   "outputs": [],
   "source": []
  },
  {
   "cell_type": "code",
   "execution_count": 28,
   "metadata": {},
   "outputs": [],
   "source": [
    "writing_df = df.writeStream.format(\"jdbc\").option(\"url\", \"jdbc:sqlite:test.db\").option(\"driver\", \"org.sqlite.JDBC\").option(\"dbtable\", \"books\")"
   ]
  }
 ],
 "metadata": {
  "kernelspec": {
   "display_name": ".venv",
   "language": "python",
   "name": "python3"
  },
  "language_info": {
   "codemirror_mode": {
    "name": "ipython",
    "version": 3
   },
   "file_extension": ".py",
   "mimetype": "text/x-python",
   "name": "python",
   "nbconvert_exporter": "python",
   "pygments_lexer": "ipython3",
   "version": "3.11.8"
  }
 },
 "nbformat": 4,
 "nbformat_minor": 2
}
