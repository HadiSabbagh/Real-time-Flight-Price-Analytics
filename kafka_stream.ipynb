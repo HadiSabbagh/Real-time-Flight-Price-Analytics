{
 "cells": [
  {
   "cell_type": "code",
   "execution_count": 3,
   "metadata": {},
   "outputs": [],
   "source": [
    "from kafka import KafkaProducer\n",
    "import time\n",
    "import pandas as pd\n"
   ]
  },
  {
   "cell_type": "code",
   "execution_count": 4,
   "metadata": {},
   "outputs": [
    {
     "name": "stdout",
     "output_type": "stream",
     "text": [
      "Sent: b'{\"bookId\":\"1501172786\",\"userId\":\"A3PHMW8UUZ338X\",\"rating\":3.0,\"timestamp\":1529366400,\"title\":\"Full Disclosure: A Novel\"}'\n",
      "Sent: b'{\"bookId\":\"1503901319\",\"userId\":\"A2Z3DQ7P9JYRLG\",\"rating\":5.0,\"timestamp\":1529366400,\"title\":\"A Merciful Silence (Mercy Kilpatrick)\"}'\n",
      "Sent: b'{\"bookId\":\"1949050084\",\"userId\":\"A20QFXAC83EOBZ\",\"rating\":5.0,\"timestamp\":1529366400,\"title\":\"Aurora\"}'\n",
      "Sent: b'{\"bookId\":\"0692141138\",\"userId\":\"A19CEOXL2IF7M0\",\"rating\":5.0,\"timestamp\":1529366400,\"title\":\"Murdered by a Christian, On a Sunday\"}'\n",
      "Sent: b'{\"bookId\":\"0134240790\",\"userId\":\"A2KGU2155YTA8P\",\"rating\":1.0,\"timestamp\":1529366400,\"title\":\"Educational Psychology: Active Learning Edition with MyLab Education with Enhanced Pearson eText, Loose-Leaf Version -- Access Card Package (13th ... New in Ed Psych \\\\/ Tests &amp; Measurements)\"}'\n",
      "Sent: b'{\"bookId\":\"1503901319\",\"userId\":\"A3JJ1RN6K3D5O1\",\"rating\":5.0,\"timestamp\":1529366400,\"title\":\"A Merciful Silence (Mercy Kilpatrick)\"}'\n",
      "Sent: b'{\"bookId\":\"1503901319\",\"userId\":\"AHK4TF9KHZVKX\",\"rating\":5.0,\"timestamp\":1529366400,\"title\":\"A Merciful Silence (Mercy Kilpatrick)\"}'\n",
      "Sent: b'{\"bookId\":\"0374279861\",\"userId\":\"A2F6N60Z96CAJI\",\"rating\":5.0,\"timestamp\":1529366400,\"title\":\"Kudos: A Novel (Outline Trilogy)\"}'\n",
      "Sent: b'{\"bookId\":\"0692103570\",\"userId\":\"A1TN62OKCEMH50\",\"rating\":5.0,\"timestamp\":1529366400,\"title\":\"Magic Show\"}'\n",
      "Sent: b'{\"bookId\":\"9649045864\",\"userId\":\"AJN44Q1LJ2PRD\",\"rating\":4.0,\"timestamp\":1529366400,\"title\":\"How Far We Slaves Have Come! (Farsi Edition)\"}'\n"
     ]
    }
   ],
   "source": [
    "\n",
    "producer = KafkaProducer(bootstrap_servers='localhost:9092') #bootstrap_servers – ‘host[:port]’ string (or list of ‘host[:port]’ strings) that the producer should contact to bootstrap initial cluster metadata. \n",
    "\n",
    "df = pd.read_csv('./docs/books.csv')\n",
    "df = df[0:10]\n",
    "\n",
    "for _, row in df.iterrows():\n",
    "    message = row.to_json().encode('utf-8')\n",
    "    producer.send('books', message)\n",
    "    print(\"Sent:\", message)\n",
    "    time.sleep(0.10)\n",
    "producer.flush()\n",
    "producer.close()"
   ]
  }
 ],
 "metadata": {
  "kernelspec": {
   "display_name": ".venv",
   "language": "python",
   "name": "python3"
  },
  "language_info": {
   "codemirror_mode": {
    "name": "ipython",
    "version": 3
   },
   "file_extension": ".py",
   "mimetype": "text/x-python",
   "name": "python",
   "nbconvert_exporter": "python",
   "pygments_lexer": "ipython3",
   "version": "3.11.8"
  }
 },
 "nbformat": 4,
 "nbformat_minor": 2
}
