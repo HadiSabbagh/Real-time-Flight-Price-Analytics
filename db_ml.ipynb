{
 "cells": [
  {
   "cell_type": "code",
   "execution_count": 35,
   "metadata": {},
   "outputs": [],
   "source": [
    "from pyspark.sql import SparkSession\n",
    "import numpy as np \n",
    "import pandas as pd\n",
    "from pyspark.ml.feature import MinMaxScaler\n",
    "from pyspark.ml.feature import VectorAssembler\n",
    "from pyspark.ml.feature import OneHotEncoder, StringIndexer\n",
    "from pyspark.ml import Pipeline\n",
    "from pyspark.ml.regression import LinearRegression\n",
    "from pyspark.sql.types import DoubleType\n",
    "from pyspark.ml import PipelineModel\n",
    "from pyspark.ml.evaluation import RegressionEvaluator\n",
    "from pyspark.ml.regression import RandomForestRegressor\n"
   ]
  },
  {
   "cell_type": "code",
   "execution_count": 2,
   "metadata": {},
   "outputs": [],
   "source": [
    "def start_spark_session():\n",
    "    spark = SparkSession.builder.appName(\"demo2\")\\\n",
    "    .config(\"spark.jars.packages\", \"org.apache.spark:spark-sql-kafka-0-10_2.12:3.5.3\") \\\n",
    "    .config(\"spark.jars\", \"./jars/sqlite-jdbc-3.47.0.0.jar\")\\\n",
    "    .config(\"spark.driver.extraClassPath\", \"./jars/sqlite-jdbc-3.47.0.0.jar\").getOrCreate()\n",
    "    return spark"
   ]
  },
  {
   "cell_type": "code",
   "execution_count": 3,
   "metadata": {},
   "outputs": [],
   "source": [
    "spark = start_spark_session()"
   ]
  },
  {
   "cell_type": "code",
   "execution_count": 4,
   "metadata": {},
   "outputs": [],
   "source": [
    "def read_data(spark, filepath):    \n",
    "    data = spark.read.csv(filepath, header=True, inferSchema=True)\n",
    "    return data"
   ]
  },
  {
   "cell_type": "code",
   "execution_count": 5,
   "metadata": {},
   "outputs": [],
   "source": [
    "# features_cols=['airline',  'source_city', 'departure_time','stops', 'arrival_time',\n",
    "#             'destination_city', 'class', 'duration','days_left', ]\n",
    "# target_col='price'\n"
   ]
  },
  {
   "cell_type": "code",
   "execution_count": 6,
   "metadata": {},
   "outputs": [],
   "source": [
    "# train_data = read_data(spark,\"./docs/train.csv\")\n",
    "# test_data = read_data(spark,\"./docs/test.csv\")"
   ]
  },
  {
   "cell_type": "code",
   "execution_count": 13,
   "metadata": {},
   "outputs": [],
   "source": [
    "class pre_process:\n",
    "    \n",
    "    \n",
    "    train_data = None\n",
    "    train_numerical_features = None\n",
    "    train_categorical_features = None\n",
    "\n",
    "    def __init__(self,train_data):\n",
    "        self.train_data = train_data\n",
    "\n",
    "    def split_features(self):\n",
    "        pandas_df = self.train_data.toPandas()\n",
    "        numerical_features = ['duration', 'days_left']\n",
    "        categorical_features = pandas_df.select_dtypes(include='object').columns.tolist()\n",
    "        self.train_numerical_features = numerical_features\n",
    "        self.train_categorical_features = categorical_features\n",
    "    \n",
    "    \n",
    "    \n",
    "    # Convert categorical features into nominal features\n",
    "    def get_indexers(self):\n",
    "        indexers = [StringIndexer(inputCol=feature, outputCol=feature + \"_index\", handleInvalid='keep') for feature in self.train_categorical_features]\n",
    "        return indexers\n",
    "        \n",
    "    # One hot encode categorical features\n",
    "    def get_encoders(self):\n",
    "        encoders = [OneHotEncoder(inputCols=[feature + \"_index\"], outputCols=[feature + \"_encoded\"],handleInvalid='keep') for feature in self.train_categorical_features]\n",
    "        return encoders\n",
    "\n",
    "    # Scale numerical features\n",
    "    def get_numerical_f_assembler_scaler(self):\n",
    "        numerical_assembler = VectorAssembler(inputCols=self.train_numerical_features,outputCol=\"numerical_features\")\n",
    "        scaler = MinMaxScaler(inputCol=\"numerical_features\", outputCol=\"numerical_features_scaled\")\n",
    "        return numerical_assembler, scaler\n",
    "\n",
    "\n",
    "\n",
    "\n",
    "    def get_pipeline_model(self):\n",
    "        \n",
    "        indexers = self.get_indexers()\n",
    "        encoders = self.get_encoders()\n",
    "        numerical_assembler, scaler = self.get_numerical_f_assembler_scaler()\n",
    "        \n",
    "        pipeline_indexers_encoders = Pipeline(stages=indexers + encoders + [numerical_assembler, scaler])\n",
    "        pipeline_model = pipeline_indexers_encoders.fit(self.train_data)\n",
    "        return pipeline_model\n",
    "\n",
    "\n",
    "    def save_fitted_pipeline_model(self,pipeline_model, path_string):\n",
    "        try:\n",
    "            pipeline_model.save(path_string)\n",
    "        except:\n",
    "            print(\"Error Saving Pipeline Model\")\n",
    "        \n",
    "    # Assemble vectorized features (categorical and numerical)\n",
    "    def get_final_assembler(self):\n",
    "        encoded_feature_cols = [feature + \"_encoded\" for feature in self.train_categorical_features]\n",
    "\n",
    "\n",
    "        final_assembler = VectorAssembler(\n",
    "            inputCols=encoded_feature_cols + [\"numerical_features_scaled\"],\n",
    "            outputCol=\"features\"\n",
    "        )\n",
    "        return final_assembler"
   ]
  },
  {
   "cell_type": "code",
   "execution_count": 14,
   "metadata": {},
   "outputs": [
    {
     "name": "stdout",
     "output_type": "stream",
     "text": [
      "+------+---------+-------+-----------+--------------+-----------+-------------+----------------+--------+--------+---------+-------+\n",
      "|    id|  airline| flight|source_city|departure_time|      stops| arrival_time|destination_city|   class|duration|days_left|  price|\n",
      "+------+---------+-------+-----------+--------------+-----------+-------------+----------------+--------+--------+---------+-------+\n",
      "| 25807| GO_FIRST| G8-334|      Delhi| Early_Morning|        one|        Night|         Kolkata| Economy|   15.58|       33| 6395.0|\n",
      "| 55971|Air_India| AI-637|     Mumbai|       Evening|two_or_more|    Afternoon|       Bangalore| Economy|   17.92|       19|10022.0|\n",
      "| 43120| GO_FIRST| G8-339|     Mumbai|       Evening|       zero|        Night|           Delhi| Economy|    2.17|        2| 5942.0|\n",
      "|170381|   Indigo|6E-6007|  Hyderabad|         Night|        one|Early_Morning|       Bangalore| Economy|    7.08|       47| 1755.0|\n",
      "| 76546| GO_FIRST|G8-7536|     Mumbai|     Afternoon|        one|        Night|       Hyderabad| Economy|    9.33|       44| 3916.0|\n",
      "| 34091|Air_India| AI-537|      Delhi|       Evening|        one|      Morning|       Hyderabad| Economy|   17.67|       41| 3551.0|\n",
      "|  9393| GO_FIRST| G8-334|      Delhi| Early_Morning|       zero|      Morning|          Mumbai| Economy|    2.17|       47| 2410.0|\n",
      "| 12008|  Vistara| UK-963|      Delhi|       Morning|        one|      Evening|       Bangalore| Economy|   10.42|       12|10680.0|\n",
      "|102627|   Indigo|6E-6017|  Bangalore|       Evening|        one|        Night|          Mumbai| Economy|    5.83|       49| 3012.0|\n",
      "|289858|  Vistara| UK-822|    Chennai|       Morning|        one|   Late_Night|           Delhi|Business|   15.17|       41|45600.0|\n",
      "|130551|  Vistara| UK-708|    Kolkata|         Night|        one|      Morning|          Mumbai| Economy|   14.75|       21| 6067.0|\n",
      "|266401|Air_India| AI-770|    Kolkata|         Night|        one|      Morning|          Mumbai|Business|   12.58|       36|50271.0|\n",
      "|250446|  Vistara| UK-810|  Bangalore| Early_Morning|        one|      Evening|          Mumbai|Business|   10.67|       22|67004.0|\n",
      "|181880|  Vistara| UK-822|    Chennai|       Morning|        one|      Evening|           Delhi| Economy|    8.33|       13|11553.0|\n",
      "|142230|   Indigo| 6E-496|    Kolkata| Early_Morning|        one|    Afternoon|       Bangalore| Economy|    6.33|       48| 3860.0|\n",
      "| 72416|  Vistara| UK-986|     Mumbai|         Night|        one|    Afternoon|       Hyderabad| Economy|   13.83|       17| 3971.0|\n",
      "|277957|  Vistara| UK-860|  Hyderabad| Early_Morning|        one|      Evening|          Mumbai|Business|   10.83|       13|58315.0|\n",
      "| 76910|   Indigo| 6E-818|     Mumbai| Early_Morning|       zero|      Morning|       Hyderabad| Economy|     1.5|       47| 2901.0|\n",
      "|118881|  Vistara| UK-812|  Bangalore|       Morning|        one|        Night|         Chennai| Economy|    13.0|       40| 6825.0|\n",
      "| 69348|Air_India| AI-809|     Mumbai|       Morning|        one|      Morning|         Kolkata| Economy|   22.08|       44| 5685.0|\n",
      "+------+---------+-------+-----------+--------------+-----------+-------------+----------------+--------+--------+---------+-------+\n",
      "only showing top 20 rows\n",
      "\n"
     ]
    }
   ],
   "source": [
    "train_data = read_data(spark,\"./docs/train.csv\")\n",
    "train_data = train_data.withColumn(\"price\", train_data[\"price\"].cast(DoubleType()))\n",
    "train_data.select(\"*\").show()"
   ]
  },
  {
   "cell_type": "code",
   "execution_count": 15,
   "metadata": {},
   "outputs": [],
   "source": [
    "pre_processer = pre_process(train_data)\n",
    "pre_processer.split_features()\n",
    "pipeline_model = pre_processer.get_pipeline_model()\n",
    "pre_processer.save_fitted_pipeline_model(pipeline_model, \"./docs/pipeline_model_backup\")"
   ]
  },
  {
   "cell_type": "code",
   "execution_count": null,
   "metadata": {},
   "outputs": [
    {
     "name": "stdout",
     "output_type": "stream",
     "text": [
      "+------+---------+-------+-----------+--------------+-----------+-------------+----------------+--------+--------+---------+-------+\n",
      "|    id|  airline| flight|source_city|departure_time|      stops| arrival_time|destination_city|   class|duration|days_left|  price|\n",
      "+------+---------+-------+-----------+--------------+-----------+-------------+----------------+--------+--------+---------+-------+\n",
      "| 43836|Air_India|AI-9657|     Mumbai|       Evening|        one|      Evening|           Delhi| Economy|   21.67|        6|12978.0|\n",
      "|251938|Air_India| AI-808|  Bangalore|         Night|        one|    Afternoon|          Mumbai|Business|   15.83|       39|54684.0|\n",
      "| 13548|Air_India| AI-762|      Delhi|         Night|        one|   Late_Night|       Bangalore| Economy|    5.58|       19| 6367.0|\n",
      "|105927|  Vistara| UK-858|  Bangalore| Early_Morning|        one|      Evening|         Kolkata| Economy|   10.17|       24| 7683.0|\n",
      "|115887|  Vistara| UK-854|  Bangalore|       Evening|        one|      Evening|         Chennai| Economy|    25.5|        6| 9241.0|\n",
      "|177627|   Indigo| 6E-626|  Hyderabad|     Afternoon|        one|      Evening|         Chennai| Economy|    4.33|       18| 4836.0|\n",
      "| 70053|  Vistara| UK-970|     Mumbai|       Morning|        one|      Evening|         Kolkata| Economy|   10.83|       48| 5949.0|\n",
      "|157808|   Indigo| 6E-643|  Hyderabad|     Afternoon|       zero|      Evening|           Delhi| Economy|    2.25|       44| 3611.0|\n",
      "|183534|  Vistara| UK-826|    Chennai|     Afternoon|        one|   Late_Night|           Delhi| Economy|   12.42|       24| 4971.0|\n",
      "| 57365|   Indigo|6E-5209|     Mumbai| Early_Morning|        one|    Afternoon|       Bangalore| Economy|    7.08|       27| 4056.0|\n",
      "| 24702|   Indigo| 6E-889|      Delhi|     Afternoon|        one|      Evening|         Kolkata| Economy|    5.83|       27| 6443.0|\n",
      "|181911|  Vistara| UK-828|    Chennai| Early_Morning|        one|        Night|           Delhi| Economy|   15.42|       13|16140.0|\n",
      "|190649|  Vistara| UK-832|    Chennai| Early_Morning|        one|        Night|          Mumbai| Economy|   14.67|       25| 9506.0|\n",
      "| 89986|  Vistara| UK-893|  Bangalore|       Evening|        one|      Morning|           Delhi| Economy|   13.08|       31| 3496.0|\n",
      "|145101|  AirAsia| I5-510|    Kolkata| Early_Morning|       zero|Early_Morning|       Hyderabad| Economy|    2.08|       25| 3126.0|\n",
      "|239656|  Vistara| UK-958|     Mumbai|     Afternoon|        one|      Evening|       Hyderabad|Business|     7.5|       25|45805.0|\n",
      "| 68661|  Vistara| UK-821|     Mumbai| Early_Morning|two_or_more|      Evening|         Kolkata| Economy|   11.33|       40| 8519.0|\n",
      "|133081|  Vistara| UK-738|    Kolkata|       Evening|        one|      Evening|          Mumbai| Economy|   22.92|       35| 6067.0|\n",
      "| 96223|  Vistara| UK-858|  Bangalore| Early_Morning|       zero|      Morning|          Mumbai| Economy|    1.58|       15| 5179.0|\n",
      "| 27364|Air_India| AI-542|      Delhi|       Morning|        one|      Morning|         Kolkata| Economy|   22.33|       42| 3610.0|\n",
      "+------+---------+-------+-----------+--------------+-----------+-------------+----------------+--------+--------+---------+-------+\n",
      "only showing top 20 rows\n",
      "\n"
     ]
    }
   ],
   "source": [
    "\n",
    "# test_data = read_data(spark,\"./docs/test.csv\")\n",
    "# test_data = test_data.withColumn(\"price\", test_data[\"price\"].cast(DoubleType()))\n",
    "# test_data.select(\"*\").show()\n",
    "# fitted_pipeline_model = PipelineModel.load(\"./docs/pipeline_model_backup\")\n",
    "# prepared_data = fitted_pipeline_model.transform(test_data)\n",
    "\n",
    "# final_assembler = pre_processer.get_final_assembler()\n",
    "# prepared_test_data = final_assembler.transform(prepared_data)\n",
    "# prepared_test_data = prepared_test_data.select(\"features\",\"price\")\n",
    "# lr = LinearRegression(featuresCol=\"features\",labelCol=\"price\")\n",
    "# lrModel = lr.fit(prepared_test_data)\n",
    "\n",
    "# predictions = lrModel.transform(prepared_test_data)\n",
    "\n",
    "# evaluator = RegressionEvaluator(labelCol=\"price\", predictionCol='prediction', metricName='r2')\n",
    "# r2 = evaluator.evaluate(predictions)\n",
    "# print(\"R2 score:\", r2)\n",
    "# random_forest = RandomForestRegressor(featuresCol=\"features\",labelCol=\"price\")\n",
    "# random_forest_model = random_forest.fit(prepared_test_data)\n",
    "# predictions = random_forest_model.transform(prepared_test_data)\n",
    "# evaluator = RegressionEvaluator(labelCol=\"price\", predictionCol='prediction', metricName='r2')\n",
    "# r2 = evaluator.evaluate(predictions)\n",
    "# print(\"R2 score:\", r2)"
   ]
  },
  {
   "cell_type": "code",
   "execution_count": 22,
   "metadata": {},
   "outputs": [],
   "source": [
    "\n",
    "# Stop Spark session\n",
    "# spark.stop()"
   ]
  }
 ],
 "metadata": {
  "kernelspec": {
   "display_name": ".venv",
   "language": "python",
   "name": "python3"
  },
  "language_info": {
   "codemirror_mode": {
    "name": "ipython",
    "version": 3
   },
   "file_extension": ".py",
   "mimetype": "text/x-python",
   "name": "python",
   "nbconvert_exporter": "python",
   "pygments_lexer": "ipython3",
   "version": "3.11.6"
  }
 },
 "nbformat": 4,
 "nbformat_minor": 2
}
